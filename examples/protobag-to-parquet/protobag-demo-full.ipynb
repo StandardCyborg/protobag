{
 "cells": [
  {
   "cell_type": "markdown",
   "metadata": {},
   "source": [
    "# Protobag Demo\n",
    "\n",
    "This notebook shows:\n",
    "  * How to write Protobuf messsages to a protobag zip archive\n",
    "  * How to read those messages back\n",
    "  * How to convert protobag zip archives to and from Pandas Dataframes and Parquet tables\n",
    "  \n",
    "If you only have 30 seconds, hit \"run all cells\" and try scrolling to these sections:\n",
    " * [Writing Plain Protobuf Messages](#write_plain)\n",
    " * [Reading Plain Protobuf Messages](todo anchor link)\n",
    " * [Converting a Protobag to a Pandas Dataframe](todo anchor link)\n",
    "\n",
    "`protobag` archives are just zip archives that contain string-serialized Protobuf messages. (Tar and other formats are also supported via [libarchive](https://github.com/libarchive/libarchive)).  So `protobag` offers a simple API for writing messages to an archive:\n",
    "\n",
    "## Environment Set-up\n",
    "\n",
    "To run this notebook locally, try using the protobag-demo dockerized environment:\n",
    "\n",
    "`docker run -it --rm --net=host protobag/demo:0.0.3 jupyter notebook --allow-root`\n",
    "TODO: build this and push it\n",
    "\n",
    "**Google Colab** You can also [run this notebook in Google Colab](https://colab.sandbox.google.com/github/StandardCyborg/protobag/blob/master/examples/protobag-parquet/protobag-demo-full.ipynb) TODO FIX LINK. In the Colab environment, you'll need to install `protobag` and some other dependencies. Running the cell below will take care of that for you. You might need to restart the runtime (Use the menu option: Runtime > Restart runtime ...) in order for Colab to recognize the new modules."
   ]
  },
  {
   "cell_type": "code",
   "execution_count": 1,
   "metadata": {},
   "outputs": [
    {
     "name": "stdout",
     "output_type": "stream",
     "text": [
      "We're running in the dockerized environment! We can simply add protobag to the PYTHONPATH\n",
      "Protobag added to PYTHONPATH\n",
      "Using protobag version 0.0.3 at /opt/protobag/python/protobag/__init__.py\n"
     ]
    }
   ],
   "source": [
    "import os\n",
    "import sys\n",
    "if os.path.exists('/opt/protobag'):\n",
    "    print(\"We're running in the dockerized environment! We can simply add protobag to the PYTHONPATH\")\n",
    "    if not os.path.exists('/opt/protobag/python/protobag/protobag_native.cpython-36m-x86_64-linux-gnu.so'):\n",
    "        # We need to build the `protobag_native` module.  The easiest way is to:\n",
    "        !cd /opt/protobag/python && python3 setup.py test\n",
    "    sys.path.append('/opt/protobag/python/')\n",
    "    print(\"Protobag added to PYTHONPATH\")\n",
    "elif 'google.colab' in sys.modules:\n",
    "    !pip install protobag\n",
    "    print(\"Protobag installed into Colab runtime environment.  You might need to restart the runtime\")\n",
    "\n",
    "import protobag\n",
    "print(\"Using protobag version %s at %s\" % (protobag.__version__, protobag.__file__))"
   ]
  },
  {
   "cell_type": "markdown",
   "metadata": {},
   "source": [
    "## Our Protobuf Messages\n",
    "\n",
    "Suppose we've developed a cool game called Dino Hunters where people run around on a deserted island and try to capture wild dinosaurs.  We're using Protobuf to persist data about the `DinoHunter` characters in our game; furthermore, we want to use Protobuf to log the 2D `Position`s of our hunters as the run around and hunt dinos.  Our message schema is as follows:\n",
    "\n",
    "```protobuf\n",
    "syntax = \"proto3\";\n",
    "\n",
    "package my_messages;\n",
    "\n",
    "message DinoHunter {\n",
    "  string first_name = 1;\n",
    "  int32 id = 2;\n",
    "  map<string, string> attribs = 3;\n",
    "\n",
    "  enum DinoType {\n",
    "    IDK = 0;\n",
    "    VEGGIESAURUS = 1;\n",
    "    MEATIESAURUS = 2;\n",
    "    PEOPLEEATINGSAURUS = 3;\n",
    "  }\n",
    "\n",
    "  message Dino {\n",
    "    string name = 1;\n",
    "    DinoType type = 2;\n",
    "  }\n",
    "\n",
    "  repeated Dino dinos = 4;\n",
    "}\n",
    "\n",
    "message Position {\n",
    "  float x = 1;\n",
    "  float y = 2;\n",
    "}\n",
    "```\n",
    "\n",
    "We now need the `protoc`-generated Python code in order to use these messages.  For convenience, we'll just download a copy posted in the `protobag` repo:"
   ]
  },
  {
   "cell_type": "code",
   "execution_count": 2,
   "metadata": {},
   "outputs": [],
   "source": [
    "if not os.path.exists('MyMessages_pb2.py'):\n",
    "    !wget http://fixme/this/path\n",
    "\n",
    "from MyMessages_pb2 import DinoHunter\n",
    "from MyMessages_pb2 import Position\n",
    "\n",
    "## Note: you can prove to yourself that the downloaded file matches the schema above using the code below:\n",
    "# import MyMessages_pb2\n",
    "# from google.protobuf.descriptor_pb2 import FileDescriptorProto\n",
    "# fd = FileDescriptorProto()\n",
    "# MyMessages_pb2.DESCRIPTOR.CopyToProto(fd)\n",
    "# print(fd)"
   ]
  },
  {
   "cell_type": "markdown",
   "metadata": {},
   "source": [
    "OK! Let's create some hunters:"
   ]
  },
  {
   "cell_type": "code",
   "execution_count": 3,
   "metadata": {},
   "outputs": [
    {
     "name": "stdout",
     "output_type": "stream",
     "text": [
      "first_name: \"py_max\"\n",
      "id: 1\n",
      "dinos {\n",
      "  name: \"py_nibbles\"\n",
      "  type: PEOPLEEATINGSAURUS\n",
      "}\n",
      "\n",
      "first_name: \"py_lara\"\n",
      "id: 2\n",
      "dinos {\n",
      "  name: \"py_bites\"\n",
      "  type: PEOPLEEATINGSAURUS\n",
      "}\n",
      "dinos {\n",
      "  name: \"py_stinky\"\n",
      "  type: VEGGIESAURUS\n",
      "}\n",
      "\n"
     ]
    }
   ],
   "source": [
    "max_hunter = DinoHunter(\n",
    "      first_name='py_max',\n",
    "      id=1,\n",
    "      dinos=[\n",
    "        {'name': 'py_nibbles', 'type': DinoHunter.PEOPLEEATINGSAURUS},\n",
    "      ])\n",
    "print(max_hunter)\n",
    "\n",
    "lara_hunter = DinoHunter(\n",
    "      first_name='py_lara',\n",
    "      id=2,\n",
    "      dinos=[\n",
    "        {'name': 'py_bites', 'type': DinoHunter.PEOPLEEATINGSAURUS},\n",
    "        {'name': 'py_stinky', 'type': DinoHunter.VEGGIESAURUS},\n",
    "      ])\n",
    "\n",
    "print(lara_hunter)"
   ]
  },
  {
   "cell_type": "markdown",
   "metadata": {},
   "source": [
    "## Writing and Reading Protobuf messages to a protobag\n",
    "<a id='write_plain'></a>\n",
    "### Plain Messages (`protobag.MessageEntry`)\n",
    "\n",
    "`protobag` archives are just zip archives that contain string-serialized Protobuf messages. (Tar and other formats are also supported via [libarchive](https://github.com/libarchive/libarchive)).  So `protobag` offers a simple API for **writing** messages to an archive:"
   ]
  },
  {
   "cell_type": "code",
   "execution_count": 4,
   "metadata": {},
   "outputs": [],
   "source": [
    "bag = protobag.Protobag(path='example.zip')\n",
    "writer = bag.create_writer()\n",
    "writer.write_msg(\"hunters/py_max\", max_hunter)\n",
    "writer.write_msg(\"hunters/py_lara\", lara_hunter)\n",
    "writer.close()"
   ]
  },
  {
   "cell_type": "markdown",
   "metadata": {},
   "source": [
    "You can verify that the above just wrote a zip archive for you:"
   ]
  },
  {
   "cell_type": "code",
   "execution_count": 5,
   "metadata": {},
   "outputs": [
    {
     "name": "stdout",
     "output_type": "stream",
     "text": [
      "Archive:  example.zip\r\n",
      "  Length      Date    Time    Name\r\n",
      "---------  ---------- -----   ----\r\n",
      "       72  1980-01-01 00:00   hunters/py_max\r\n",
      "       86  1980-01-01 00:00   hunters/py_lara\r\n",
      "     8691  1980-01-01 00:00   /_protobag_index/bag_index/1595357957.0.stampedmsg.protobin\r\n",
      "---------                     -------\r\n",
      "     8849                     3 files\r\n"
     ]
    }
   ],
   "source": [
    "!which unzip > /dev/null || (apt-get update && apt-get install unzip)\n",
    "!unzip -l example.zip"
   ]
  },
  {
   "cell_type": "markdown",
   "metadata": {},
   "source": [
    "Hmm, what's that `/_protobag_index/bag_index/xxxxx.stampedmsg.protobin` file?\n",
    "\n",
    "By default, `protobag` not only saves those messages but also **indexes Protobuf message descriptors** so that your `protobag` readers don't need your proto schemas to decode your messages.  (You can also disable this indexing if you wish.  For further discussion, see [the root README.md](todo link)\n",
    "\n",
    "\n",
    "To **read** specific messages from a `protobag` archive, you can use this simple API:"
   ]
  },
  {
   "cell_type": "code",
   "execution_count": 6,
   "metadata": {},
   "outputs": [
    {
     "name": "stdout",
     "output_type": "stream",
     "text": [
      "MessageEntry:\n",
      "  entryname: hunters/py_max\n",
      "  type_url: type.googleapis.com/my_messages.DinoHunter\n",
      "  has serdes: True\n",
      "  has descriptor_data: False\n",
      "  msg:\n",
      "first_name: \"py_max\"\n",
      "id: 1\n",
      "dinos {\n",
      "  name: \"py_nibbles\"\n",
      "  type: PEOPLEEATINGSAURUS\n",
      "}\n",
      "\n"
     ]
    }
   ],
   "source": [
    "bag = protobag.Protobag(\n",
    "        path='example.zip',\n",
    "        \n",
    "        # Tell protobag to use our protoc-generated python code:\n",
    "        msg_classes=(DinoHunter, Position))\n",
    "entry = bag.get_entry(\"hunters/py_max\")\n",
    "print(entry)"
   ]
  },
  {
   "cell_type": "markdown",
   "metadata": {},
   "source": [
    "### Time-Series Data (`protobag.StampedEntry`)\n",
    "`protobag` features a **topic-timestamp-message** API for recording time-series data.  This API is modeled after [`rosbag`](http://wiki.ros.org/rosbag), [LCM log files](https://lcm-proj.github.io/log_file_format.html) (where topics are called \"channels\"), and your favorite message bus systems like Kafka or AWS SQS.  Each **topic** has Protobuf messages of a single type, and each message has a nanosecond-precision timestamp (using the `google.protobuf.Timestamp` object, which has built-in conversion to other timestamp datastructures like Python `datetime`s).  \n",
    "\n",
    "Protobag has special handling for these timestamped entries:\n",
    "  * For writing:\n",
    "      * Topics organized into archive \"folders\" and filenames are chosen automatically.\n",
    "      * Protobag indexes Protobuf Message Descriptors as described above.\n",
    "      * Protobag indexes the messages for efficient time-ordered playback.\n",
    "  * For reading:\n",
    "     * Protobag offers a simple [Selection](fixme link) API for reading specific sets of topics, time ranges, or even just individual events.\n",
    "     * Protobag offers a [`TimeSync`](fixme link) (in C++ FIXME add python API) for synchronizing topics that have messages recorded at different rates.  \n",
    "  \n",
    "\n",
    "Using our Dino Hunters example, we'll log (**write**) the 2D positions of a dino and a hunter during a chase scene:"
   ]
  },
  {
   "cell_type": "code",
   "execution_count": 7,
   "metadata": {},
   "outputs": [],
   "source": [
    "bag = protobag.Protobag(path='example.zip')\n",
    "writer = bag.create_writer()\n",
    "for t in range(10):\n",
    "    lara_pos = Position(x=t, y=t+1)\n",
    "    writer.write_stamped_msg(\"positions/lara\", lara_pos, t_sec=t)\n",
    "\n",
    "    toofz_pos = Position(x=t+2, y=t+3)\n",
    "    writer.write_stamped_msg(\"positions/toofz\", toofz_pos, t_sec=t)\n",
    "writer.close()"
   ]
  },
  {
   "cell_type": "markdown",
   "metadata": {},
   "source": [
    "We can now **read** them using the `protobag.SelectionBuilder` helper tool:"
   ]
  },
  {
   "cell_type": "code",
   "execution_count": 12,
   "metadata": {},
   "outputs": [
    {
     "name": "stdout",
     "output_type": "stream",
     "text": [
      "Read just the positions of toofz:\n",
      "Time: 1970-01-01 00:00:00 Position: 2.0 3.0\n",
      "Time: 1970-01-01 00:00:01 Position: 3.0 4.0\n",
      "Time: 1970-01-01 00:00:02 Position: 4.0 5.0\n",
      "Time: 1970-01-01 00:00:03 Position: 5.0 6.0\n",
      "Time: 1970-01-01 00:00:04 Position: 6.0 7.0\n",
      "Time: 1970-01-01 00:00:05 Position: 7.0 8.0\n",
      "Time: 1970-01-01 00:00:06 Position: 8.0 9.0\n",
      "Time: 1970-01-01 00:00:07 Position: 9.0 10.0\n",
      "Time: 1970-01-01 00:00:08 Position: 10.0 11.0\n",
      "Time: 1970-01-01 00:00:09 Position: 11.0 12.0\n",
      "\n",
      "\n",
      "Read *all* timeseries data:\n",
      "Topic: positions/lara Time: 1970-01-01 00:00:00 Position: 0.0 1.0\n",
      "Topic: positions/toofz Time: 1970-01-01 00:00:00 Position: 2.0 3.0\n",
      "Topic: positions/lara Time: 1970-01-01 00:00:01 Position: 1.0 2.0\n",
      "Topic: positions/toofz Time: 1970-01-01 00:00:01 Position: 3.0 4.0\n",
      "Topic: positions/lara Time: 1970-01-01 00:00:02 Position: 2.0 3.0\n",
      "Topic: positions/toofz Time: 1970-01-01 00:00:02 Position: 4.0 5.0\n",
      "Topic: positions/lara Time: 1970-01-01 00:00:03 Position: 3.0 4.0\n",
      "Topic: positions/toofz Time: 1970-01-01 00:00:03 Position: 5.0 6.0\n",
      "Topic: positions/lara Time: 1970-01-01 00:00:04 Position: 4.0 5.0\n",
      "Topic: positions/toofz Time: 1970-01-01 00:00:04 Position: 6.0 7.0\n",
      "Topic: positions/lara Time: 1970-01-01 00:00:05 Position: 5.0 6.0\n",
      "Topic: positions/toofz Time: 1970-01-01 00:00:05 Position: 7.0 8.0\n",
      "Topic: positions/lara Time: 1970-01-01 00:00:06 Position: 6.0 7.0\n",
      "Topic: positions/toofz Time: 1970-01-01 00:00:06 Position: 8.0 9.0\n",
      "Topic: positions/lara Time: 1970-01-01 00:00:07 Position: 7.0 8.0\n",
      "Topic: positions/toofz Time: 1970-01-01 00:00:07 Position: 9.0 10.0\n",
      "Topic: positions/lara Time: 1970-01-01 00:00:08 Position: 8.0 9.0\n",
      "Topic: positions/toofz Time: 1970-01-01 00:00:08 Position: 10.0 11.0\n",
      "Topic: positions/lara Time: 1970-01-01 00:00:09 Position: 9.0 10.0\n",
      "Topic: positions/toofz Time: 1970-01-01 00:00:09 Position: 11.0 12.0\n"
     ]
    }
   ],
   "source": [
    "bag = protobag.Protobag(\n",
    "        path='example.zip',\n",
    "        \n",
    "        # Tell protobag to use our protoc-generated python code:\n",
    "        msg_classes=(DinoHunter, Position))\n",
    "\n",
    "print(\"Read just the positions of toofz:\")\n",
    "sel_toofz = protobag.SelectionBuilder.select_window(topics=[\"positions/toofz\"])\n",
    "for entry in bag.iter_entries(selection=sel_toofz):\n",
    "    print(\"Time: %s Position: %s %s\" % (entry.timestamp.ToDatetime(), entry.msg.x, entry.msg.y))\n",
    "print()\n",
    "print()\n",
    "    \n",
    "print(\"Read *all* timeseries data:\")\n",
    "sel_all_time_series = protobag.SelectionBuilder.select_window()\n",
    "for entry in bag.iter_entries(selection=sel_all_time_series):\n",
    "    print(\"Topic: %s Time: %s Position: %s %s\" % (entry.topic, entry.timestamp.ToDatetime(), entry.msg.x, entry.msg.y))"
   ]
  },
  {
   "cell_type": "markdown",
   "metadata": {},
   "source": [
    "### Raw Data (`protobag.RawEntry`)\n",
    "We can also just put raw data like text files or images into our protobag archive because it's just a zip file.  The C++ `protobag` API even includes an [`ArchiveUtil.hpp` module](fixme) TODO FIXME LINK that has helper functions for common archive operations like zipping a directory or unarchiving a tar file.  The raw write API makes `protobag` skip all indexing and type-tracking activity."
   ]
  },
  {
   "cell_type": "code",
   "execution_count": null,
   "metadata": {},
   "outputs": [],
   "source": []
  }
 ],
 "metadata": {
  "kernelspec": {
   "display_name": "Python 3",
   "language": "python",
   "name": "python3"
  },
  "language_info": {
   "codemirror_mode": {
    "name": "ipython",
    "version": 3
   },
   "file_extension": ".py",
   "mimetype": "text/x-python",
   "name": "python",
   "nbconvert_exporter": "python",
   "pygments_lexer": "ipython3",
   "version": "3.6.9"
  }
 },
 "nbformat": 4,
 "nbformat_minor": 4
}
