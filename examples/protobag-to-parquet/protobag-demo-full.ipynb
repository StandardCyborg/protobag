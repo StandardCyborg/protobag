{
 "cells": [
  {
   "cell_type": "markdown",
   "metadata": {},
   "source": [
    "# Protobag Demo\n",
    "\n",
    "This notebook shows:\n",
    "  * How to write Protobuf messsages to a protobag zip archive\n",
    "  * How to read those messages back\n",
    "  * How to convert protobag zip archives to and from Pandas Dataframes and Parquet tables\n",
    "\n",
    "\n",
    "## Environment Set-up\n",
    "\n",
    "To run this notebook locally, try using the protobag-demo dockerized environment:\n",
    "\n",
    "`docker run -it --rm --net=host protobag/demo:0.0.3 jupyter notebook --allow-root`\n",
    "TODO: build this and push it\n",
    "\n",
    "**Google Colab** You can also [run this notebook in Google Colab](https://colab.sandbox.google.com/github/StandardCyborg/protobag/blob/master/examples/protobag-parquet/protobag-demo-full.ipynb) TODO FIX LINK. In the Colab environment, you'll need to install `protobag` and some other dependencies. Running the cell below will take care of that for you. You might need to restart the runtime (Use the menu option: Runtime > Restart runtime ...) in order for Colab to recognize the new modules."
   ]
  },
  {
   "cell_type": "code",
   "execution_count": 1,
   "metadata": {},
   "outputs": [
    {
     "name": "stdout",
     "output_type": "stream",
     "text": [
      "We're running in the dockerized environment! We can simply add protobag to the PYTHONPATH\n",
      "Protobag added to PYTHONPATH\n",
      "Using protobag version 0.0.3 at /opt/protobag/python/protobag/__init__.py\n"
     ]
    }
   ],
   "source": [
    "import os\n",
    "import sys\n",
    "if os.path.exists('/opt/protobag'):\n",
    "    print(\"We're running in the dockerized environment! We can simply add protobag to the PYTHONPATH\")\n",
    "    if not os.path.exists('/opt/protobag/python/protobag/protobag_native.cpython-36m-x86_64-linux-gnu.so'):\n",
    "        # We need to build the `protobag_native` module.  The easiest way is to:\n",
    "        !cd /opt/protobag/python && python3 setup.py test\n",
    "    sys.path.append('/opt/protobag/python/')\n",
    "    print(\"Protobag added to PYTHONPATH\")\n",
    "elif 'google.colab' in sys.modules:\n",
    "    !pip install protobag\n",
    "    print(\"Protobag installed into Colab runtime environment.  You might need to restart the runtime\")\n",
    "\n",
    "import protobag\n",
    "print(\"Using protobag version %s at %s\" % (protobag.__version__, protobag.__file__))"
   ]
  },
  {
   "cell_type": "markdown",
   "metadata": {},
   "source": [
    "## Our Protobuf Messages\n",
    "\n",
    "Suppose we've developed a cool game called Dino Hunters where people run around on a deserted island and try to capture wild dinosaurs.  We're using Protobuf to persist data about the `DinoHunter` characters in our game; furthermore, we want to use Protobuf to log the 2D `Position`s of our hunters as the run around and hunt dinos.  Our message schema is as follows:\n",
    "\n",
    "```protobuf\n",
    "syntax = \"proto3\";\n",
    "\n",
    "package my_messages;\n",
    "\n",
    "message DinoHunter {\n",
    "  string first_name = 1;\n",
    "  int32 id = 2;\n",
    "  map<string, string> attribs = 3;\n",
    "\n",
    "  enum DinoType {\n",
    "    IDK = 0;\n",
    "    VEGGIESAURUS = 1;\n",
    "    MEATIESAURUS = 2;\n",
    "    PEOPLEEATINGSAURUS = 3;\n",
    "  }\n",
    "\n",
    "  message Dino {\n",
    "    string name = 1;\n",
    "    DinoType type = 2;\n",
    "  }\n",
    "\n",
    "  repeated Dino dinos = 4;\n",
    "}\n",
    "\n",
    "message Position {\n",
    "  float x = 1;\n",
    "  float y = 2;\n",
    "}\n",
    "```\n",
    "\n",
    "We now need the `protoc`-generated Python code in order to use these messages.  For convenience, we'll just download a copy posted in the `protobag` repo:"
   ]
  },
  {
   "cell_type": "code",
   "execution_count": 17,
   "metadata": {},
   "outputs": [],
   "source": [
    "if not os.path.exists('MyMessages_pb2.py'):\n",
    "    !wget http://fixme/this/path\n",
    "\n",
    "from MyMessages_pb2 import DinoHunter\n",
    "from MyMessages_pb2 import Position\n",
    "\n",
    "## Note: you can prove to yourself that the downloaded file matches the schema above using the code below:\n",
    "# import MyMessages_pb2\n",
    "# from google.protobuf.descriptor_pb2 import FileDescriptorProto\n",
    "# fd = FileDescriptorProto()\n",
    "# MyMessages_pb2.DESCRIPTOR.CopyToProto(fd)\n",
    "# print(fd)"
   ]
  },
  {
   "cell_type": "markdown",
   "metadata": {},
   "source": [
    "OK! Let's create some hunters:"
   ]
  },
  {
   "cell_type": "code",
   "execution_count": 18,
   "metadata": {},
   "outputs": [
    {
     "name": "stdout",
     "output_type": "stream",
     "text": [
      "first_name: \"py_max\"\n",
      "id: 1\n",
      "dinos {\n",
      "  name: \"py_nibbles\"\n",
      "  type: PEOPLEEATINGSAURUS\n",
      "}\n",
      "\n",
      "first_name: \"py_lara\"\n",
      "id: 2\n",
      "dinos {\n",
      "  name: \"py_bites\"\n",
      "  type: PEOPLEEATINGSAURUS\n",
      "}\n",
      "dinos {\n",
      "  name: \"py_stinky\"\n",
      "  type: VEGGIESAURUS\n",
      "}\n",
      "\n"
     ]
    }
   ],
   "source": [
    "max_hunter = DinoHunter(\n",
    "      first_name='py_max',\n",
    "      id=1,\n",
    "      dinos=[\n",
    "        {'name': 'py_nibbles', 'type': DinoHunter.PEOPLEEATINGSAURUS},\n",
    "      ])\n",
    "print(max_hunter)\n",
    "\n",
    "lara_hunter = DinoHunter(\n",
    "      first_name='py_lara',\n",
    "      id=2,\n",
    "      dinos=[\n",
    "        {'name': 'py_bites', 'type': DinoHunter.PEOPLEEATINGSAURUS},\n",
    "        {'name': 'py_stinky', 'type': DinoHunter.VEGGIESAURUS},\n",
    "      ])\n",
    "\n",
    "print(lara_hunter)"
   ]
  },
  {
   "cell_type": "markdown",
   "metadata": {},
   "source": [
    "## Writing Protobuf messages to a protobag\n",
    "### Plain Messages (`protobag.MessageEntry`)\n",
    "\n",
    "`protobag` archives are just zip archives that contain string-serialized Protobuf messages. (Tar and other formats are also supported via [libarchive](https://github.com/libarchive/libarchive)).  So `protobag` offers a simple API for writing messages to an archive:"
   ]
  },
  {
   "cell_type": "code",
   "execution_count": 19,
   "metadata": {},
   "outputs": [],
   "source": [
    "bag = protobag.Protobag(path='example.zip')\n",
    "writer = bag.create_writer()\n",
    "writer.write_msg(\"hunters/py_max\", max_hunter)\n",
    "writer.write_msg(\"hunters/py_lara\", lara_hunter)\n",
    "writer.close()"
   ]
  },
  {
   "cell_type": "markdown",
   "metadata": {},
   "source": [
    "You can verify that the above just wrote a zip archive for you:"
   ]
  },
  {
   "cell_type": "code",
   "execution_count": 22,
   "metadata": {},
   "outputs": [
    {
     "name": "stdout",
     "output_type": "stream",
     "text": [
      "Archive:  example.zip\r\n",
      "  Length      Date    Time    Name\r\n",
      "---------  ---------- -----   ----\r\n",
      "       72  1980-01-01 00:00   hunters/py_max\r\n",
      "       86  1980-01-01 00:00   hunters/py_lara\r\n",
      "     8691  1980-01-01 00:00   /_protobag_index/bag_index/1595326274.0.stampedmsg.protobin\r\n",
      "---------                     -------\r\n",
      "     8849                     3 files\r\n"
     ]
    }
   ],
   "source": [
    "!which unzip > /dev/null || (apt-get update && apt-get install unzip)\n",
    "!unzip -l example.zip"
   ]
  },
  {
   "cell_type": "markdown",
   "metadata": {},
   "source": [
    "Hmm, what's that `/_protobag_index/bag_index/xxxxx.stampedmsg.protobin` file?\n",
    "\n",
    "## Protobag indexes Protobuf message Descriptors\n",
    "\n",
    " By default, `protobag` not only saves those messages but also **indexes Protobuf message descriptors** so that your `protobag` readers don't need your proto schemas to decode your messages.  \n",
    "\n",
    "### Wat?\n",
    "In order to deserialize a Protobuf message, typically you need `protoc`-generated code for that message type (and you need `protoc`-generated code for your specific programming language).  This `protoc`-generated code is engineered for efficiency and provides a clean API for accessing message attributes.  But what if you don't have that `protoc`-generated code?  Or you don't even have the `.proto` message definitions to generate such code?\n",
    "\n",
    "In Protobuf version 3.x, the authors added official support for [the self-describing message paradigm](https://developers.google.com/protocol-buffers/docs/techniques).  Now a user can serialize not just a message but Protobuf Descriptor data that describes the message schema and enables deserialzing the message *without protoc-generated code*-- all you need is the `protobuf` library itself.  (This is a core feature of other serialization libraries [like Avro](http://avro.apache.org/docs/1.6.1/)).\n",
    "\n",
    "Note: dynamic message decoding is slower than using `protoc`-generated code.  Furthermore, the `protoc`-generated code makes defensive programming a bit easier.  You probably want to use the `protoc`-generated code for your messages if you can.\n",
    "\n",
    "\n",
    "### Protobag makes all messages self-describing messages\n",
    "While Protobuf includes tools for using self-describing messages, the feature isn't simply a toggle in your `.proto` file, and the API is a bit complicated (because Google claims they don't use it much internally).\n",
    "\n",
    "`protobag` automatically indexes the Protobuf Descriptor data for your messages at write time.  (And you can disable this indexing if so desired).  At read time, `protobag` automatically uses this indexed Descriptor data if the user reading your `protobag` file lacks the needed `protoc`-generated code to deserialize a message.\n",
    "\n",
    "What if a message type evolves?  `protobag` indexes each distinct message type for each write session.  If you change your schema for a message type between write sessions, `protobag` will have indexed both schemas and will use the proper one for dynamic deserialization.\n"
   ]
  },
  {
   "cell_type": "markdown",
   "metadata": {},
   "source": [
    "### Time-Series Data (`protobag.StampedEntry`)\n",
    "`protobag` features a **topic-timestamp-message** API for recording time-series data.  This API is modeled after [`rosbag`](http://wiki.ros.org/rosbag), [LCM log files](https://lcm-proj.github.io/log_file_format.html) (where topics are called \"channels\"), and your favorite message bus systems like Kafka or AWS SQS.  Each **topic** has Protobuf messages of a single type, and each message has a nanosecond-precision timestamp (using the `google.protobuf.Timestamp` object, which has built-in conversion to other timestamp datastructures like Python `datetime`s).  \n",
    "\n",
    "Protobag has special handling for these [StampedEntry](fixme link) entries:\n",
    "  * For writing:\n",
    "      * Topics organized into archive \"folders\" and filenames are chosen automatically.\n",
    "      * Protobag indexes Protobuf Message Descriptors as described above.\n",
    "      * Protobag indexes the messages for efficient time-ordered playback.\n",
    "  * For reading:\n",
    "     * Protobag offers a simple [Selection](fixme link) API for reading specific sets of topics, time ranges, or even just individual events.\n",
    "     * Protobag offers a [`TimeSync`](fixme link) (in C++ FIXME add python API) for synchronizing topics that have messages recorded at different rates.  \n",
    "  \n"
   ]
  },
  {
   "cell_type": "code",
   "execution_count": null,
   "metadata": {},
   "outputs": [],
   "source": []
  },
  {
   "cell_type": "markdown",
   "metadata": {},
   "source": [
    "### Raw Data (`protobag.RawEntry`)\n",
    "We can also just put raw data like text files or images into our protobag archive because it's just a zip file.  The C++ `protobag` API even includes an [`ArchiveUtil.hpp` module](fixme) TODO FIXME LINK that has helper functions for common archive operations like zipping a directory or unarchiving a tar file.  The raw write API makes `protobag` skip all indexing and type-tracking activity."
   ]
  },
  {
   "cell_type": "code",
   "execution_count": null,
   "metadata": {},
   "outputs": [],
   "source": []
  }
 ],
 "metadata": {
  "kernelspec": {
   "display_name": "Python 3",
   "language": "python",
   "name": "python3"
  },
  "language_info": {
   "codemirror_mode": {
    "name": "ipython",
    "version": 3
   },
   "file_extension": ".py",
   "mimetype": "text/x-python",
   "name": "python",
   "nbconvert_exporter": "python",
   "pygments_lexer": "ipython3",
   "version": "3.6.9"
  }
 },
 "nbformat": 4,
 "nbformat_minor": 4
}
